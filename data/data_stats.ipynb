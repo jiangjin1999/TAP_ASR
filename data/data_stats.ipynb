{
 "cells": [
  {
   "cell_type": "code",
   "execution_count": null,
   "metadata": {},
   "outputs": [],
   "source": [
    "dataset = ['AISHELL-1', \"AIDATATANG\", \"MAGICDATA\", \"LIBRISPEECH_CLEAN\", \"LIBRISPEECH_OTHER\"][0]"
   ]
  }
 ],
 "metadata": {
  "language_info": {
   "name": "python"
  },
  "orig_nbformat": 4
 },
 "nbformat": 4,
 "nbformat_minor": 2
}
