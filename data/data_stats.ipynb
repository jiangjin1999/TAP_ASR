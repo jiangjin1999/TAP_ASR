{
 "cells": [
  {
   "cell_type": "code",
   "execution_count": 1,
   "metadata": {},
   "outputs": [],
   "source": [
    "i = 3\n",
    "j = 0\n",
    "language = ['zh', 'en'][1]\n",
    "dataset = ['AISHELL-1', \"AIDATATANG\", \"MAGICDATA\", \"LIBRISPEECH_CLEAN\", \"LIBRISPEECH_OTHER\"][i]\n",
    "mode = ['train', 'test', 'dev'][j]"
   ]
  },
  {
   "cell_type": "code",
   "execution_count": 2,
   "metadata": {},
   "outputs": [],
   "source": [
    "file_path = '/home/data/jiangjin/TAP_ASR/data/'+language+'/'+dataset+'/'+dataset+'_'+mode+'.txt'"
   ]
  },
  {
   "cell_type": "code",
   "execution_count": 3,
   "metadata": {},
   "outputs": [],
   "source": [
    "with open(file_path, 'r') as f_data:\n",
    "    data = f_data.readlines()"
   ]
  },
  {
   "cell_type": "code",
   "execution_count": 4,
   "metadata": {},
   "outputs": [],
   "source": [
    "if language == 'zh':\n",
    "    label = [item.strip().split(' ')[1] for item in data]\n",
    "    record = [item.strip().split(' ')[2] for item in data]\n",
    "else:\n",
    "    data = data[1:]\n",
    "    label = [item.strip().split('\\t')[1] for item in data]\n",
    "    record = [item.strip().split('\\t')[2] for item in data]"
   ]
  },
  {
   "cell_type": "code",
   "execution_count": 5,
   "metadata": {},
   "outputs": [],
   "source": [
    "from transformers import BartTokenizer\n",
    "text_tokenizer=BartTokenizer.from_pretrained('/home/data/jiangjin/TAP_ASR/pretrained-model/en/BART/')\n"
   ]
  },
  {
   "cell_type": "code",
   "execution_count": 6,
   "metadata": {},
   "outputs": [
    {
     "data": {
      "text/plain": [
       "48"
      ]
     },
     "execution_count": 6,
     "metadata": {},
     "output_type": "execute_result"
    }
   ],
   "source": [
    "len(label[10].split(' '))"
   ]
  },
  {
   "cell_type": "code",
   "execution_count": 7,
   "metadata": {},
   "outputs": [
    {
     "data": {
      "text/plain": [
       "{'input_ids': tensor([[    0,   642,  5906,    56,   553,   123,     9,   768,    13, 28648,\n",
       "         16152,   740,  5914,  6747,    56,   393,    57,   684,     7,  5968,\n",
       "           335,    59,   932,    11,    39,  1086,   301,     8,   648,   259,\n",
       "            21, 28648, 16152,   740,  5914,  6747,    23,   457,   375,   130,\n",
       "            15,     5,  1390,     9,    10,  3610,   183, 15155,   808,     2]]), 'attention_mask': tensor([[1, 1, 1, 1, 1, 1, 1, 1, 1, 1, 1, 1, 1, 1, 1, 1, 1, 1, 1, 1, 1, 1, 1, 1,\n",
       "         1, 1, 1, 1, 1, 1, 1, 1, 1, 1, 1, 1, 1, 1, 1, 1, 1, 1, 1, 1, 1, 1, 1, 1,\n",
       "         1, 1]])}"
      ]
     },
     "execution_count": 7,
     "metadata": {},
     "output_type": "execute_result"
    }
   ],
   "source": [
    "\n",
    "inputs = text_tokenizer(label[10], max_length=50, return_tensors=\"pt\", truncation=True)\n",
    "inputs"
   ]
  },
  {
   "cell_type": "code",
   "execution_count": 8,
   "metadata": {},
   "outputs": [
    {
     "data": {
      "text/plain": [
       "{'input_ids': tensor([[   0,  642, 5906,   56,    2]]), 'attention_mask': tensor([[1, 1, 1, 1, 1]])}"
      ]
     },
     "execution_count": 8,
     "metadata": {},
     "output_type": "execute_result"
    }
   ],
   "source": [
    "\n",
    "inputs = text_tokenizer(label[10], max_length=5, return_tensors=\"pt\", truncation=True)\n",
    "inputs"
   ]
  },
  {
   "cell_type": "code",
   "execution_count": 9,
   "metadata": {},
   "outputs": [],
   "source": [
    "if language =='zh':\n",
    "    label_length = [len(item) for item in label]\n",
    "else:\n",
    "    label_length = [len(item.split(' ')) for item in label]\n",
    "label_error = [1 if label_item==record_item else 0 for label_item, record_item in zip(label, record)]"
   ]
  },
  {
   "cell_type": "code",
   "execution_count": 10,
   "metadata": {},
   "outputs": [
    {
     "name": "stdout",
     "output_type": "stream",
     "text": [
      "数据统计:\n",
      "句子个数:28539\n",
      "label最大句子长度:75\n",
      "label最小句子长度:2\n",
      "label的平均句子长度:34.69291145450086\n",
      "正确句子个数:4323\n",
      "错误句子个数:24216\n",
      "错误句子比例:0.8485230736886366\n"
     ]
    }
   ],
   "source": [
    "print('数据统计:')\n",
    "print('句子个数:'+str(len(label)))\n",
    "print('label最大句子长度:'+str(max(label_length)))\n",
    "print('label最小句子长度:'+str(min(label_length)))\n",
    "print('label的平均句子长度:'+str(sum(label_length)/len(label)))\n",
    "print('正确句子个数:'+str(sum(label_error)))\n",
    "print('错误句子个数:'+str(len(label)-sum(label_error)))\n",
    "print('错误句子比例:'+str((len(label)-sum(label_error))/len(label)))\n"
   ]
  },
  {
   "cell_type": "code",
   "execution_count": 259,
   "metadata": {},
   "outputs": [],
   "source": [
    "### ADD data\n",
    "train_path = '/home/data/jiangjin/TAP_ASR/data/en/LIBRISPEECH_OTHER/LIBRISPEECH_OTHER_train.txt'\n",
    "add_path = '/home/data/jiangjin/TAP_ASR/data/en/LIBRISPEECH_OTHER/ADD_data.txt'"
   ]
  },
  {
   "cell_type": "code",
   "execution_count": 260,
   "metadata": {},
   "outputs": [],
   "source": [
    "with open(train_path, 'r') as f_data:\n",
    "    data = f_data.readlines()"
   ]
  },
  {
   "cell_type": "code",
   "execution_count": 261,
   "metadata": {},
   "outputs": [],
   "source": [
    "data = data[1:]"
   ]
  },
  {
   "cell_type": "code",
   "execution_count": 262,
   "metadata": {},
   "outputs": [
    {
     "data": {
      "text/plain": [
       "'1092-134562-0\\tchapter one it is with a kind of fear that i begin to write the history of my life i have as it were a superstitious hesitation in lifting the veil that clings about my childhood like a golden mist.\\tchapter one it is with a kind of fear that i begin to write the history of my life i have as it were a superstitious hesitation in lifting the veil by the eyes of my childhood like a golden mist.\\n'"
      ]
     },
     "execution_count": 262,
     "metadata": {},
     "output_type": "execute_result"
    }
   ],
   "source": [
    "data[0]"
   ]
  },
  {
   "cell_type": "code",
   "execution_count": 263,
   "metadata": {},
   "outputs": [],
   "source": [
    "add_data = [item.strip().split('\\t')[0]+'\\t'+item.strip().split('\\t')[1]+'\\t'+item.strip().split('\\t')[1]+'\\n' for item in data if item.strip().split('\\t')[1]!=item.strip().split('\\t')[2] ] "
   ]
  },
  {
   "cell_type": "markdown",
   "metadata": {},
   "source": []
  },
  {
   "cell_type": "code",
   "execution_count": 264,
   "metadata": {},
   "outputs": [],
   "source": [
    "with open(add_path, 'w') as f_add:\n",
    "    f_add.writelines(add_data)"
   ]
  },
  {
   "cell_type": "code",
   "execution_count": null,
   "metadata": {},
   "outputs": [],
   "source": []
  }
 ],
 "metadata": {
  "kernelspec": {
   "display_name": "Python 3",
   "language": "python",
   "name": "python3"
  },
  "language_info": {
   "codemirror_mode": {
    "name": "ipython",
    "version": 3
   },
   "file_extension": ".py",
   "mimetype": "text/x-python",
   "name": "python",
   "nbconvert_exporter": "python",
   "pygments_lexer": "ipython3",
   "version": "3.8.8"
  },
  "orig_nbformat": 4,
  "vscode": {
   "interpreter": {
    "hash": "5b3228b2b04fe574edc1cfad377da45b01c8bfafeb5d7448f83b83b0b5984135"
   }
  }
 },
 "nbformat": 4,
 "nbformat_minor": 2
}
